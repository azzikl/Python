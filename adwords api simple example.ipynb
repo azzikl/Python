{
 "cells": [
  {
   "cell_type": "code",
   "execution_count": null,
   "metadata": {
    "collapsed": true
   },
   "outputs": [],
   "source": [
    "import pandas as pd\n",
    "import logging\n",
    "import sys\n",
    "from googleads import adwords\n",
    "from random import randint\n",
    "from time import sleep"
   ]
  },
  {
   "cell_type": "code",
   "execution_count": null,
   "metadata": {
    "collapsed": false
   },
   "outputs": [],
   "source": [
    "#reading file with keywords\n",
    "main = pd.read_csv('ActiveLocalKeywords.csv', encoding = 'utf-8')\n",
    "main.head\n"
   ]
  },
  {
   "cell_type": "code",
   "execution_count": null,
   "metadata": {
    "collapsed": false
   },
   "outputs": [],
   "source": [
    "def build_sel(queries_list, criteria):\n",
    "    \"\"\" main function that \n",
    "    takes list of keywords, critedia id\n",
    "    and returns search volumes\n",
    "    \"\"\"\n",
    "    selector = {\n",
    "        'searchParameters': [\n",
    "            {\n",
    "                'xsi_type': 'RelatedToQuerySearchParameter',\n",
    "                'queries': queries_list\n",
    "            },\n",
    "            {\n",
    "                # Network search parameter (optional)\n",
    "                'xsi_type': 'NetworkSearchParameter',\n",
    "                'networkSetting': {\n",
    "                    'targetGoogleSearch': True,\n",
    "                    'targetSearchNetwork': False,\n",
    "                    'targetContentNetwork': False,\n",
    "                    'targetPartnerSearchNetwork': False\n",
    "                }\n",
    "            },\n",
    "\n",
    "            {\n",
    "                'xsi_type': 'LocationSearchParameter',\n",
    "                'locations': [{'id': str(criteria)}]\n",
    "            }\n",
    "        ],\n",
    "        'ideaType': 'KEYWORD',\n",
    "        'requestType': 'STATS',\n",
    "        'requestedAttributeTypes': ['KEYWORD_TEXT', 'SEARCH_VOLUME','COMPETITION','AVERAGE_CPC'\n",
    "                                    ],\n",
    "        'paging': {\n",
    "            'startIndex': '0',\n",
    "            'numberResults': '700'\n",
    "        }\n",
    "    }\n",
    "    return selector\n",
    "\n",
    "#buiding client and service\n",
    "client = adwords.AdWordsClient.LoadFromStorage('googleads.yaml')\n",
    "targeting_idea_service = client.GetService('TargetingIdeaService', version='v201609')\n"
   ]
  },
  {
   "cell_type": "code",
   "execution_count": null,
   "metadata": {
    "collapsed": true
   },
   "outputs": [],
   "source": [
    "keywords = list()\n",
    "competition = list()\n",
    "cpc = list()\n",
    "search_volumes = list()\n",
    "criteria_id = list()\n"
   ]
  },
  {
   "cell_type": "code",
   "execution_count": null,
   "metadata": {
    "collapsed": false
   },
   "outputs": [],
   "source": [
    "criteria = #some criteria from https://developers.google.com/adwords/api/docs/appendix/geotargeting\n",
    "\n",
    "df = main[main['Criteria ID'] == criteria]\n",
    "while start < len(df):\n",
    "    sleep(randint(1,2))\n",
    "        some_list = list(df['Phrase'].unique()[start:end])\n",
    "        selector = build_sel(some_list, criteria)\n",
    "        page = targeting_idea_service.get(selector)\n",
    "        if 'entries' in page:\n",
    "            for result in page['entries']:\n",
    "                attributes = {}\n",
    "                for attribute in result['data']:\n",
    "                    attributes[attribute['key']] = getattr(attribute['value'], 'value','0')\n",
    "    \n",
    "                keywords.append(attributes['KEYWORD_TEXT'])\n",
    "                search_volumes.append(attributes['SEARCH_VOLUME'])\n",
    "                competition.append(attributes['COMPETITION'])\n",
    "                cpc.append(attributes['AVERAGE_CPC'])\n",
    "                criteria_id.append(criteria)                    \n",
    "    start = end\n",
    "    end = end + 700\n",
    "    "
   ]
  },
  {
   "cell_type": "markdown",
   "metadata": {},
   "source": [
    "#### creating resulting data frame"
   ]
  },
  {
   "cell_type": "code",
   "execution_count": null,
   "metadata": {
    "collapsed": true
   },
   "outputs": [],
   "source": [
    "df_new = pd.DataFrame(columns=['keyword', 'search_volume', 'criteria_id', 'cpc', 'competition'])\n",
    "df_new['keyword'] = keywords\n",
    "df_new['search_volume'] = search_volumes\n",
    "df_new['criteria_id'] = criteria_id\n",
    "df_new['cpc'] = cpc\n",
    "df_new['competition'] = competition"
   ]
  },
  {
   "cell_type": "code",
   "execution_count": null,
   "metadata": {
    "collapsed": false
   },
   "outputs": [],
   "source": [
    "df_final.to_csv('final_result.csv')"
   ]
  }
 ],
 "metadata": {
  "anaconda-cloud": {},
  "kernelspec": {
   "display_name": "Python [default]",
   "language": "python",
   "name": "python3"
  },
  "language_info": {
   "codemirror_mode": {
    "name": "ipython",
    "version": 3
   },
   "file_extension": ".py",
   "mimetype": "text/x-python",
   "name": "python",
   "nbconvert_exporter": "python",
   "pygments_lexer": "ipython3",
   "version": "3.5.2"
  }
 },
 "nbformat": 4,
 "nbformat_minor": 1
}
